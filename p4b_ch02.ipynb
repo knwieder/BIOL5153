{
 "cells": [
  {
   "cell_type": "code",
   "execution_count": 7,
   "metadata": {},
   "outputs": [
    {
     "name": "stdout",
     "output_type": "stream",
     "text": [
      "A: 16\n",
      "T: 21\n",
      "length: 54\n",
      "AT content: 0.685185185185\n"
     ]
    }
   ],
   "source": [
    "# Exercise 1 Calculating AT Content\n",
    "from __future__ import division\n",
    "dnaseq1 = \"ACTGATCGATTACGTATAGTATTTGCTATCATACATATATATCGATGCGTTCAT\"\n",
    "a_count = dnaseq1.count('A')\n",
    "t_count = dnaseq1.count('T')\n",
    "length = len(dnaseq1)\n",
    "print (\"A: \" + str(a_count))\n",
    "print (\"T: \" + str(t_count))\n",
    "print (\"length: \" + str(length))\n",
    "at_content = (a_count + t_count) / length\n",
    "print (\"AT content: \" + str(at_content))"
   ]
  },
  {
   "cell_type": "code",
   "execution_count": 29,
   "metadata": {},
   "outputs": [
    {
     "name": "stdout",
     "output_type": "stream",
     "text": [
      "TGACTAGCTAATGCATATCATAAACGATAGTATGTATATATAGCTACGCAAGTA\n"
     ]
    }
   ],
   "source": [
    "# Exercise 2 Complementing DNA\n",
    "dnaseq2 = ('ACTGATCGATTACGTATAGTATTTGCTATCATACATATATATCGATGCGTTCAT')\n",
    "compA1 = (dnaseq2.replace(\"A\", \"B\"))\n",
    "compT1 = (compA1.replace(\"T\", \"U\"))\n",
    "compC1 = (compT1.replace(\"C\", \"D\"))\n",
    "compG1 = (compC1.replace(\"G\", \"H\"))\n",
    "\n",
    "compA2 = (compG1.replace(\"B\", \"T\"))\n",
    "compT2 = (compA2.replace(\"U\", \"A\"))\n",
    "compC2 = (compT2.replace(\"D\", \"G\"))\n",
    "compG2 = (compC2.replace(\"H\", \"C\"))\n",
    "print(compG2)"
   ]
  },
  {
   "cell_type": "code",
   "execution_count": 34,
   "metadata": {},
   "outputs": [
    {
     "name": "stdout",
     "output_type": "stream",
     "text": [
      "Fragment 1: 22\n",
      "Fragment 2: 33\n"
     ]
    }
   ],
   "source": [
    "# Exercise 3 Restriction Fragment Lengths\n",
    "dnaseq3 = \"ACTGATCGATTACGTATAGTAGAATTCTATCATACATATATATCGATGCGTTCAT\"\n",
    "sec1 = dnaseq3[0:22]\n",
    "sec2 = dnaseq3[22:55]\n",
    "print (\"Fragment 1: \" + str(len(sec1)))\n",
    "print (\"Fragment 2: \" + str(len(sec2)))"
   ]
  },
  {
   "cell_type": "code",
   "execution_count": 37,
   "metadata": {},
   "outputs": [
    {
     "name": "stdout",
     "output_type": "stream",
     "text": [
      "ATCGATCGATCGATCGACTGACTAGTCATAGCTATGCATGTAGCTACTCGATCGATCGATCGATCATCGATCGATATCGATGCATCGACTACTAT\n"
     ]
    }
   ],
   "source": [
    "# Exercise 4 Splicing Out Introns, Part One\n",
    "dnaseq4 = \"ATCGATCGATCGATCGACTGACTAGTCATAGCTATGCATGTAGCTACTCGATCGATCGATCGATCGATCGATCGATCGATCGATCATGCTATCATCGATCGATATCGATGCATCGACTACTAT\"\n",
    "print (dnaseq4[0:63] + dnaseq4[91:123])"
   ]
  },
  {
   "cell_type": "code",
   "execution_count": 16,
   "metadata": {},
   "outputs": [
    {
     "name": "stdout",
     "output_type": "stream",
     "text": [
      "77.2357723577\n"
     ]
    }
   ],
   "source": [
    "## Exercise 4 Splicing Out Introns, Part Two\n",
    "from __future__ import division\n",
    "dnaseq4 = \"ATCGATCGATCGATCGACTGACTAGTCATAGCTATGCATGTAGCTACTCGATCGATCGATCGATCGATCGATCGATCGATCGATCATGCTATCATCGATCGATATCGATGCATCGACTACTAT\"\n",
    "exons = (dnaseq4[0:62] + dnaseq4[90:123])\n",
    "exonlen = (len(exons))\n",
    "length = (len(dnaseq4))\n",
    "percent = (exonlen/length) * 100\n",
    "print percent"
   ]
  },
  {
   "cell_type": "code",
   "execution_count": 15,
   "metadata": {},
   "outputs": [
    {
     "name": "stdout",
     "output_type": "stream",
     "text": [
      "ATCGATCGATCGATCGACTGACTAGTCATAGCTATGCATGTAGCTACTCGATCGATCGATCGAcgatcgatcgatcgatcgatcatgctaTCATCGATCGATATCGATGCATCGACTACTAT\n"
     ]
    }
   ],
   "source": [
    "# Exercise 4 Splicing Out Introns, Part Three\n",
    "dnaseq4 = \"ATCGATCGATCGATCGACTGACTAGTCATAGCTATGCATGTAGCTACTCGATCGATCGATCGATCGATCGATCGATCGATCGATCATGCTATCATCGATCGATATCGATGCATCGACTACTAT\"\n",
    "noncoding = (dnaseq4[62:90])\n",
    "print (dnaseq4[0:62] + noncoding.lower() + dnaseq4[90:123])\n",
    "\n"
   ]
  }
 ],
 "metadata": {
  "kernelspec": {
   "display_name": "Python 3",
   "language": "python",
   "name": "python3"
  },
  "language_info": {
   "codemirror_mode": {
    "name": "ipython",
    "version": 2
   },
   "file_extension": ".py",
   "mimetype": "text/x-python",
   "name": "python",
   "nbconvert_exporter": "python",
   "pygments_lexer": "ipython2",
   "version": "2.7.14"
  }
 },
 "nbformat": 4,
 "nbformat_minor": 2
}
